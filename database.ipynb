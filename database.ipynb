{
 "cells": [
  {
   "cell_type": "markdown",
   "id": "4797c7f9",
   "metadata": {},
   "source": [
    "# Base de Datos\n",
    " * Nombre: database.ipynb\n",
    " * Programadora: Fernanda Esquivel (feresq.gt@gmail.com)\n",
    " * Lenguaje: Python\n",
    " * Recursos: VSCode\n",
    " * Descripción: Programa que crea la base de datos normalizada en base al archivo \"polizas_clean.csv\"\n",
    " * Historial de Modificaciones: \n",
    "    - Creación: 01.08.2025\n",
    "    - Última modificación: 01.08.2025"
   ]
  },
  {
   "cell_type": "code",
   "execution_count": 1,
   "id": "d6eea993",
   "metadata": {},
   "outputs": [],
   "source": [
    "import pandas as pd"
   ]
  },
  {
   "cell_type": "code",
   "execution_count": 4,
   "id": "5467476d",
   "metadata": {},
   "outputs": [],
   "source": [
    "#Cargar archivo limpio\n",
    "df = pd.read_csv(\"data/polizas_clean.csv\")\n",
    "df.columns = df.columns.str.strip().str.lower()"
   ]
  },
  {
   "cell_type": "code",
   "execution_count": 5,
   "id": "e5f98cc7",
   "metadata": {},
   "outputs": [],
   "source": [
    "#Función para normalizar tablas de catalogos\n",
    "def generateCatalog(df, columna, nombre_id):\n",
    "    catalogo = df[[columna]].drop_duplicates().dropna().reset_index(drop=True)\n",
    "    catalogo[nombre_id] = catalogo.index + 1\n",
    "    return catalogo"
   ]
  },
  {
   "cell_type": "code",
   "execution_count": 6,
   "id": "31ea8b71",
   "metadata": {},
   "outputs": [],
   "source": [
    "aduanas = generateCatalog(df, \"aduana\", \"aduana_id\")\n",
    "regimenes = generateCatalog(df, \"tipo_regimen\", \"regimen_id\")\n",
    "sac = generateCatalog(df, \"sac\", \"sac_id\")\n",
    "paises = generateCatalog(df, \"pais\", \"pais_id\")\n",
    "unidades = generateCatalog(df, \"tipo_unidad_medida\", \"unidad_id\")"
   ]
  },
  {
   "cell_type": "code",
   "execution_count": 7,
   "id": "606ca77a",
   "metadata": {},
   "outputs": [],
   "source": [
    "#Reemplazar en el dataframe original los valores por IDs\n",
    "df = df.merge(aduanas, on=\"aduana\", how=\"left\")\n",
    "df = df.merge(regimenes, on=\"tipo_regimen\", how=\"left\")\n",
    "df = df.merge(sac, on=\"sac\", how=\"left\")\n",
    "df = df.merge(paises, on=\"pais\", how=\"left\")\n",
    "df = df.merge(unidades, on=\"tipo_unidad_medida\", how=\"left\")"
   ]
  },
  {
   "cell_type": "code",
   "execution_count": 8,
   "id": "13b22e77",
   "metadata": {},
   "outputs": [],
   "source": [
    "#Crear tabla Polizas\n",
    "polizas = df[[\n",
    "    \"correlativo\", \"fecha_declaracion\", \"aduana_id\", \"regimen_id\", \"tipo_cambio_dolar\"\n",
    "]].drop_duplicates().reset_index(drop=True)"
   ]
  },
  {
   "cell_type": "code",
   "execution_count": 9,
   "id": "0cbf02cb",
   "metadata": {},
   "outputs": [],
   "source": [
    "#Crear tabla Importaciones\n",
    "importaciones = df[[\n",
    "    \"correlativo\", \"sac_id\", \"descripcion\", \"pais_id\", \"unidad_id\",\n",
    "    \"cantidad_fraccion\", \"tasa_dai\", \"valor_dai\", \"valor_cif_uds\",\n",
    "    \"tasa_cif_cantidad_fraccion\"\n",
    "]].copy()"
   ]
  },
  {
   "cell_type": "code",
   "execution_count": 10,
   "id": "c6d004d6",
   "metadata": {},
   "outputs": [],
   "source": [
    "importaciones.insert(0, \"item_id\", range(1, len(importaciones) + 1))"
   ]
  },
  {
   "cell_type": "code",
   "execution_count": 11,
   "id": "58bc72cb",
   "metadata": {},
   "outputs": [],
   "source": [
    "#Exportar todas las tablas\n",
    "polizas.to_csv(\"data/database/polizas.csv\", index=False)\n",
    "importaciones.to_csv(\"data/database/importaciones.csv\", index=False)\n",
    "aduanas.to_csv(\"data/database/aduanas.csv\", index=False)\n",
    "regimenes.to_csv(\"data/database/regimenes.csv\", index=False)\n",
    "sac.to_csv(\"data/database/sac.csv\", index=False)\n",
    "paises.to_csv(\"data/database/paises.csv\", index=False)\n",
    "unidades.to_csv(\"data/database/unidades_medida.csv\", index=False)"
   ]
  },
  {
   "cell_type": "code",
   "execution_count": 12,
   "id": "51ce2e85",
   "metadata": {},
   "outputs": [
    {
     "name": "stdout",
     "output_type": "stream",
     "text": [
      "Creación de la base de datos terminada.\n"
     ]
    }
   ],
   "source": [
    "print(\"Creación de la base de datos terminada.\")"
   ]
  }
 ],
 "metadata": {
  "kernelspec": {
   "display_name": "Python 3",
   "language": "python",
   "name": "python3"
  },
  "language_info": {
   "codemirror_mode": {
    "name": "ipython",
    "version": 3
   },
   "file_extension": ".py",
   "mimetype": "text/x-python",
   "name": "python",
   "nbconvert_exporter": "python",
   "pygments_lexer": "ipython3",
   "version": "3.10.11"
  }
 },
 "nbformat": 4,
 "nbformat_minor": 5
}

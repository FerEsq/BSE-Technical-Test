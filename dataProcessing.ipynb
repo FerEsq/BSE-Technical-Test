{
 "cells": [
  {
   "cell_type": "markdown",
   "id": "d67acf3e",
   "metadata": {},
   "source": [
    "# Procesamiento de datos\n",
    " * Nombre: dataProcessing.ipynb\n",
    " * Programadora: Fernanda Esquivel (feresq.gt@gmail.com)\n",
    " * Lenguaje: Python\n",
    " * Recursos: VSCode\n",
    " * Descripción: Programa para realizar el procesamiento de los datos del archivo \"polizas_full.csv\".\n",
    " * Historial de Modificaciones: \n",
    "    - Creación: 31.07.2025\n",
    "    - Última modificación: 31.07.2025"
   ]
  },
  {
   "cell_type": "code",
   "execution_count": 1,
   "id": "efe1a936",
   "metadata": {},
   "outputs": [],
   "source": [
    "import pandas as pd\n",
    "import numpy as np\n",
    "from datetime import datetime"
   ]
  },
  {
   "cell_type": "code",
   "execution_count": 2,
   "id": "f4792251",
   "metadata": {},
   "outputs": [],
   "source": [
    "#Cargar csv\n",
    "filePath = \"data/polizas_full.csv\""
   ]
  },
  {
   "cell_type": "code",
   "execution_count": null,
   "id": "471aa8ca",
   "metadata": {},
   "outputs": [],
   "source": [
    "#Este encoding='latin1' me sirve para evitar errores con caracteres raros como \"�\"\n",
    "df = pd.read_csv(filePath, encoding='latin1', dtype=str, low_memory=False)\n",
    "\n",
    "#Eliminar BOM en la primera columna\n",
    "df.columns = [col.replace('ï»¿', '').strip().lower() for col in df.columns]"
   ]
  },
  {
   "cell_type": "code",
   "execution_count": 14,
   "id": "fc6c9193",
   "metadata": {},
   "outputs": [],
   "source": [
    "#Limpieza de caracteres raros\n",
    "df.replace(to_replace=r'[^\\x00-\\x7F]+', value='', regex=True, inplace=True) #esto reemplaza caracteres no deseados como \"�\""
   ]
  },
  {
   "cell_type": "code",
   "execution_count": 15,
   "id": "660a59e2",
   "metadata": {},
   "outputs": [],
   "source": [
    "#Convertimos a tipo correcto (donde aplica)\n",
    "df['fecha_declaracion'] = pd.to_datetime(df['fecha_declaracion'], errors='coerce')  #las fechas no válidas van a ser NaT\n",
    "df['tipo_cambio_dolar'] = pd.to_numeric(df['tipo_cambio_dolar'], errors='coerce')\n",
    "df['cantidad_fraccion'] = pd.to_numeric(df['cantidad_fraccion'], errors='coerce')\n",
    "df['tasa_dai'] = pd.to_numeric(df['tasa_dai'], errors='coerce')\n",
    "df['valor_dai'] = pd.to_numeric(df['valor_dai'], errors='coerce')\n",
    "df['valor_cif_uds'] = pd.to_numeric(df['valor_cif_uds'], errors='coerce')\n",
    "df['tasa_cif_cantidad_fraccion'] = pd.to_numeric(df['tasa_cif_cantidad_fraccion'], errors='coerce')"
   ]
  },
  {
   "cell_type": "code",
   "execution_count": 16,
   "id": "8f9a19c0",
   "metadata": {},
   "outputs": [],
   "source": [
    "#Normalizar nombres de las columnas\n",
    "df.columns = df.columns.str.strip().str.lower()"
   ]
  },
  {
   "cell_type": "code",
   "execution_count": 17,
   "id": "c001a350",
   "metadata": {},
   "outputs": [
    {
     "name": "stdout",
     "output_type": "stream",
     "text": [
      "['correlativo', 'fecha_declaracion', 'aduana', 'tipo_regimen', 'tipo_cambio_dolar', 'sac', 'descripcion', 'pais', 'tipo_unidad_medida', 'cantidad_fraccion', 'tasa_dai', 'valor_dai', 'valor_cif_uds', 'tasa_cif_cantidad_fraccion']\n"
     ]
    }
   ],
   "source": [
    "print(df.columns.tolist())"
   ]
  },
  {
   "cell_type": "code",
   "execution_count": 18,
   "id": "4b3fbb39",
   "metadata": {},
   "outputs": [],
   "source": [
    "#Validación de campos obligatorios\n",
    "#Se definieron cuales eran \"campos obligatorios\" por criterio de la programadora\n",
    "requiredColumns = [\n",
    "    'correlativo', 'fecha_declaracion', 'aduana', 'tipo_regimen',\n",
    "    'sac', 'descripcion', 'pais', 'tipo_unidad_medida', 'cantidad_fraccion'\n",
    "]"
   ]
  },
  {
   "cell_type": "code",
   "execution_count": 19,
   "id": "7ca91807",
   "metadata": {},
   "outputs": [],
   "source": [
    "#Eliminamos filas con valores faltantes en columnas obligatorias\n",
    "cleanDF = df.dropna(subset=requiredColumns)"
   ]
  },
  {
   "cell_type": "code",
   "execution_count": null,
   "id": "52e4039e",
   "metadata": {},
   "outputs": [],
   "source": [
    "#Crear un DataFrame con los registros eliminados (inválidos)\n",
    "invalidDF = df[~df.index.isin(cleanDF.index)]"
   ]
  },
  {
   "cell_type": "code",
   "execution_count": null,
   "id": "a6c1ba63",
   "metadata": {},
   "outputs": [],
   "source": [
    "#Exportar registros inválidos para backup de seguridad\n",
    "invalidDF.to_csv(\"data/polizas_invalid.csv\", index=False)"
   ]
  },
  {
   "cell_type": "code",
   "execution_count": 24,
   "id": "fe94e916",
   "metadata": {},
   "outputs": [],
   "source": [
    "cleanDF.to_csv(\"data/polizas_clean.csv\", index=False)"
   ]
  },
  {
   "cell_type": "code",
   "execution_count": 25,
   "id": "cc9fe950",
   "metadata": {},
   "outputs": [
    {
     "name": "stdout",
     "output_type": "stream",
     "text": [
      "Procesamiento terminado.\n"
     ]
    }
   ],
   "source": [
    "print(\"Procesamiento terminado.\")"
   ]
  }
 ],
 "metadata": {
  "kernelspec": {
   "display_name": "Python 3",
   "language": "python",
   "name": "python3"
  },
  "language_info": {
   "codemirror_mode": {
    "name": "ipython",
    "version": 3
   },
   "file_extension": ".py",
   "mimetype": "text/x-python",
   "name": "python",
   "nbconvert_exporter": "python",
   "pygments_lexer": "ipython3",
   "version": "3.10.11"
  }
 },
 "nbformat": 4,
 "nbformat_minor": 5
}
